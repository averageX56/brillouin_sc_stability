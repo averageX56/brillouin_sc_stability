{
 "cells": [
  {
   "cell_type": "code",
   "execution_count": 3,
   "id": "b193ec2c",
   "metadata": {},
   "outputs": [],
   "source": [
    "import numpy as np\n",
    "from scipy.optimize import fsolve, differential_evolution, minimize\n",
    "from scipy.linalg import eig\n",
    "import plotly.graph_objects as go\n",
    "import matplotlib.pyplot as plt"
   ]
  },
  {
   "cell_type": "code",
   "execution_count": 4,
   "id": "08dc39bf",
   "metadata": {},
   "outputs": [],
   "source": [
    "def kappa(gammas):\n",
    "    return np.sqrt(gammas[0] * gammas[3] / 4 / ALPHA / BETA)\n",
    "\n",
    "def theta(gammas, Omega):\n",
    "    return (Omega * gammas[3] / ALPHA / BETA / 2) ** (1/3)\n",
    "\n",
    "def A_2_A_4_sys(vars, gammas, Omega):\n",
    "    x, y = vars\n",
    "    k = kappa(gammas)\n",
    "    t = theta(gammas, Omega)\n",
    "    \n",
    "    c_6 = - k**4*x - k**2*y**2 + k**6 - x*y*k**2\n",
    "    b_4 = y**2 + k**2 * x - k**4\n",
    "    a_2 = k**2 - y\n",
    "    \n",
    "    term = k**2 * c_6**2 / t**6\n",
    "    \n",
    "    eq1 = b_4**2 + b_4*a_2*y - a_2**2*x*y - a_2*y**2*x - term\n",
    "    eq2 = a_2*b_4*x + a_2**2*x*y - a_2*x**2*y - x**2*y**2 - term\n",
    "    \n",
    "    return [eq1, eq2]\n",
    "\n",
    "def A_2_A_4(gammas, Omega, method='de', tol=1e-20, maxiter=500):\n",
    "    try:\n",
    "        denominator = 16 * ALPHA * BETA * gammas[3]\n",
    "        if denominator == 0:\n",
    "            return (np.nan, np.nan)\n",
    "            \n",
    "        initial_guess_val = np.sqrt(Omega - np.sqrt(gammas[1] * (gammas[4] * gammas[2] + gammas[0] * gammas[3])**2 / denominator))\n",
    "        \n",
    "        if not np.isfinite(initial_guess_val):\n",
    "            return (np.nan, np.nan)\n",
    "            \n",
    "        lower_bound = max(0, Omega) \n",
    "        upper_bound = max(Omega, lower_bound + 1) \n",
    "        bounds = [(lower_bound, upper_bound), (lower_bound, upper_bound)]\n",
    "        \n",
    "        def objective(vars):\n",
    "            eq1, eq2 = A_2_A_4_sys(vars, gammas, Omega)\n",
    "            return eq1**2 + eq2**2\n",
    "            \n",
    "        if method == 'fsolve':\n",
    "            solution = fsolve(lambda vars: A_2_A_4_sys(vars, gammas, Omega), \n",
    "                            [initial_guess_val, initial_guess_val], \n",
    "                            xtol=tol, \n",
    "                            maxfev=maxiter)\n",
    "            \n",
    "        elif method == 'de':\n",
    "            result = differential_evolution(objective, bounds, tol=tol, maxiter=maxiter)\n",
    "            solution = result.x\n",
    "            \n",
    "        elif method == 'hybrid':\n",
    "            result_de = differential_evolution(objective, bounds, tol=tol, maxiter=maxiter//2)\n",
    "            result_fsolve = fsolve(lambda vars: A_2_A_4_sys(vars, gammas, Omega), \n",
    "                                 result_de.x, \n",
    "                                 xtol=tol, \n",
    "                                 maxfev=maxiter//2)\n",
    "            solution = result_fsolve\n",
    "            \n",
    "        x, y = solution\n",
    "\n",
    "            \n",
    "        return (np.sqrt(x), np.sqrt(y))\n",
    "        \n",
    "    except Exception as e:\n",
    "        print(f\"Ошибка при вычислении A_2_A_4: {str(e)}\")\n",
    "        return (np.nan, np.nan)\n",
    "\n",
    "def calc_3rd_order_st_amps(gammas, Omega):\n",
    "    A_2, A_4 = A_2_A_4(gammas, Omega)\n",
    "    k = kappa(gammas)\n",
    "    t = theta(gammas, Omega)\n",
    "    c_6 = - k**4*A_2**2 - k**2*A_4**4 + k**6 - A_2**2*A_4**2*k**2\n",
    "    b_4 = A_4**4 + k**2 * A_2**2 - k**4\n",
    "    a_2 = k**2 - A_4**2\n",
    "\n",
    "    A2_st = A_2                                               # phi_2 = 0\n",
    "    A4_st = A_4                                               # phi_4 = 0\n",
    "    A3_st = 1j*t**3 * A4_st * np.conj(A2_st) * a_2 / c_6      # phi_3 = pi/2\n",
    "    A1_st = 1j*t**3 * b_4 / c_6                               # phi_1 = pi/2\n",
    "    A5_st = 1j*t**3 * A4_st * A4_st * A2_st * A2_st / c_6     # phi_5 = pi/2\n",
    "    rho1_st = 2j / gammas[3] * BETA * (A1_st * np.conj(A2_st) + A3_st * np.conj(A4_st))\n",
    "    rho2_st = 2j / gammas[3] * BETA * (A2_st * np.conj(A3_st) + A4_st * np.conj(A5_st))\n",
    "\n",
    "    return (A1_st, A2_st, A3_st, A4_st, A5_st, rho1_st, rho2_st)\n",
    "\n",
    "def build_matrix(gammas, Omega):\n",
    "    A1_st, A2_st, A3_st, A4_st, A5_st, rho1_st, rho2_st = calc_3rd_order_st_amps(gammas, Omega)\n",
    "    M = np.zeros((14, 14), dtype=complex)\n",
    "    \n",
    "    M[0,0] = -gammas[0] / 2\n",
    "    M[0,1] = 1j*ALPHA*rho1_st\n",
    "    M[0,5] = 1j*ALPHA*A2_st\n",
    "\n",
    "    M[1,0] = 1j*ALPHA*np.conj(rho1_st)\n",
    "    M[1,1] = -gammas[1] / 2\n",
    "    M[1,2] = 1j*ALPHA*rho2_st\n",
    "    M[1,6] = 1j*ALPHA*A3_st\n",
    "    M[1,12] = 1j*ALPHA*A1_st\n",
    "\n",
    "    M[2,1] = 1j*ALPHA*np.conj(rho2_st)\n",
    "    M[2,2] = -gammas[2] / 2\n",
    "    M[2,3] = 1j*ALPHA*rho1_st\n",
    "    M[2,5] = 1j*ALPHA*A4_st\n",
    "    M[2,13] = 1j*ALPHA*A2_st\n",
    "\n",
    "    M[3,2] = 1j*ALPHA*np.conj(rho1_st)\n",
    "    M[3,3] = -gammas[2] / 2\n",
    "    M[3,4] = 1j*ALPHA*rho2_st\n",
    "    M[3,6] = 1j*ALPHA*A5_st\n",
    "    M[3,12] = 1j*ALPHA*A3_st\n",
    "\n",
    "    M[4,3] = 1j*ALPHA*np.conj(rho2_st)\n",
    "    M[4,4] = -gammas[2] / 2\n",
    "    M[4,13] = 1j*ALPHA*A4_st\n",
    "\n",
    "    M[5,0] = 1j*BETA*np.conj(A2_st)\n",
    "    M[5,2] = 1j*BETA*np.conj(A4_st)\n",
    "    M[5,5] = -gammas[3] / 2\n",
    "    M[5,8] = 1j*BETA*A1_st\n",
    "    M[5,10] = 1j*BETA*A3_st\n",
    "\n",
    "    M[6,1] = 1j*BETA*np.conj(A3_st)\n",
    "    M[6,3] = 1j*BETA*np.conj(A5_st)\n",
    "    M[6,6] = -gammas[4] / 2\n",
    "    M[6,9] = 1j*BETA*A2_st\n",
    "    M[6,11] = 1j*BETA*A4_st\n",
    "\n",
    "    M[7,7] = -np.conj(gammas[0]) / 2\n",
    "    M[7,8] = -1j*ALPHA*np.conj(rho1_st)\n",
    "    M[7,12] = -1j*ALPHA*np.conj(A2_st)\n",
    "\n",
    "    M[8,7] = -1j*ALPHA*rho1_st\n",
    "    M[8,8] = -np.conj(gammas[1]) / 2\n",
    "    M[8,9] = -1j*ALPHA*np.conj(rho2_st)\n",
    "    M[8,13] = -1j*ALPHA*np.conj(A3_st)\n",
    "    M[8,5] = -1j*ALPHA*np.conj(A1_st)\n",
    "\n",
    "    M[9,8] = -1j*ALPHA*rho2_st\n",
    "    M[9,9] = -np.conj(gammas[2]) / 2\n",
    "    M[9,10] = -1j*ALPHA*np.conj(rho1_st)\n",
    "    M[9,12] = -1j*ALPHA*np.conj(A4_st)\n",
    "    M[9,6] = -1j*ALPHA*np.conj(A2_st)\n",
    "\n",
    "    M[10,9] = -1j*ALPHA*rho1_st\n",
    "    M[10,10] = -np.conj(gammas[2]) / 2\n",
    "    M[10,11] = -1j*ALPHA*np.conj(rho2_st)\n",
    "    M[10,13] = -1j*ALPHA*np.conj(A5_st)\n",
    "    M[10,5] = -1j*ALPHA*np.conj(A3_st)\n",
    "\n",
    "    M[11,10] = -1j*ALPHA*rho2_st\n",
    "    M[11,11] = -np.conj(gammas[2]) / 2\n",
    "    M[11,6] = -1j*ALPHA*np.conj(A4_st)\n",
    "\n",
    "    M[12,7] = -1j*BETA*A2_st\n",
    "    M[12,9] = -1j*BETA*A4_st\n",
    "    M[12,12] = -np.conj(gammas[3]) / 2\n",
    "    M[12,1] = -1j*BETA*np.conj(A1_st)\n",
    "    M[12,3] = -1j*BETA*np.conj(A3_st)\n",
    "\n",
    "    M[13,8] = -1j*BETA*A3_st\n",
    "    M[13,10] = -1j*BETA*A5_st\n",
    "    M[13,13] = -np.conj(gammas[4]) / 2\n",
    "    M[13,2] = -1j*BETA*np.conj(A2_st)\n",
    "    M[13,4] = -1j*BETA*np.conj(A4_st)\n",
    "\n",
    "    return M, (A1_st, A2_st, A3_st, A4_st, A5_st, rho1_st, rho2_st)"
   ]
  },
  {
   "cell_type": "code",
   "execution_count": 6,
   "id": "e4009f7f",
   "metadata": {},
   "outputs": [
    {
     "name": "stderr",
     "output_type": "stream",
     "text": [
      "C:\\Users\\user\\AppData\\Local\\Temp\\ipykernel_5336\\469090.py:29: RuntimeWarning:\n",
      "\n",
      "invalid value encountered in sqrt\n",
      "\n"
     ]
    },
    {
     "data": {
      "application/vnd.plotly.v1+json": {
       "config": {
        "plotlyServerURL": "https://plot.ly"
       },
       "data": [
        {
         "line": {
          "width": 2
         },
         "mode": "lines",
         "name": "A1",
         "type": "scatter",
         "x": {
          "bdata": "AAAAAAAAAADmFLycgpfzP+YUvJyClwNAWR8a60NjDUDmFLycgpcTQCAa60NjfRhAWR8a60NjHUBJkiRJkiQhQOYUvJyClyNAg5dT8HIKJkAgGutDY30oQLycgpdT8CpAWR8a60NjLUD2obE+NNYvQEmSJEmSJDFAmFPwcgpeMkDmFLycgpczQDTWh8b60DRAg5dT8HIKNkDRWB8a60M3QCAa60NjfThAbtu2bdu2OUC8nIKXU/A6QAteTsHLKTxAWR8a60NjPUCn4OUUvJw+QPahsT401j9AorE+NNaHQEBJkiRJkiRBQPByCl5OwUFAmFPwcgpeQkA/NNaHxvpCQOYUvJyCl0NAjfWhsT40REA01ofG+tBEQNy2bdu2bUVAg5dT8HIKRkAqeDkFL6dGQNFYHxrrQ0dAeDkFL6fgR0AgGutDY31IQMf60FgfGklAbtu2bdu2SUAVvJyCl1NKQLycgpdT8EpAY31orA+NS0ALXk7ByylMQLI+NNaHxkxAWR8a60NjTUAAAAAAAABOQA==",
          "dtype": "f8"
         },
         "y": {
          "bdata": "AAAAAAAA+H8AAAAAAAD4fwAAAAAAAPh/AAAAAAAA+H8AAAAAAAD4fwAAAAAAAPh/AAAAAAAA+H8AAAAAAAD4fwAAAAAAAPh/AAAAAAAA+H8AAAAAAAD4fwAAAAAAAPh/AAAAAAAA+H/IEchX9Qz7PyTdyf1nCf0/Mn1iDgQF/z8txpZO938AQDdnmU8ifQFA+jWVhA56AkB2CcwlxXYDQBPpcbFNcwRA/SHjTq5vBUDUPTEY7GsGQAaoeVELaAdAB3AXkw9kCED2jTPq+18JQEm2LfLSWwpA2pij6JZXC0Di+1+9SVMMQEPlIx/tTg1A+fz9hYJKDkBypLc7C0YPQJtWXzHEIBBA+0vtfX2eEEBxMnX1MRwRQNtGbf3hmRFA0kd88I0XEkC8z+AfNpUSQHYOotTaEhNAGViTUHyQE0CDKTLPGg4UQJjTZIa2ixRAn9kep08JFUDpJu9d5oYVQMKEe9N6BBZAiCPsLA2CFkAMkEmMnf8WQNUKzxAsfRdAzuUy17j6F0CASub5Q3gYQA==",
          "dtype": "f8"
         }
        },
        {
         "line": {
          "width": 2
         },
         "mode": "lines",
         "name": "A2",
         "type": "scatter",
         "x": {
          "bdata": "AAAAAAAAAADmFLycgpfzP+YUvJyClwNAWR8a60NjDUDmFLycgpcTQCAa60NjfRhAWR8a60NjHUBJkiRJkiQhQOYUvJyClyNAg5dT8HIKJkAgGutDY30oQLycgpdT8CpAWR8a60NjLUD2obE+NNYvQEmSJEmSJDFAmFPwcgpeMkDmFLycgpczQDTWh8b60DRAg5dT8HIKNkDRWB8a60M3QCAa60NjfThAbtu2bdu2OUC8nIKXU/A6QAteTsHLKTxAWR8a60NjPUCn4OUUvJw+QPahsT401j9AorE+NNaHQEBJkiRJkiRBQPByCl5OwUFAmFPwcgpeQkA/NNaHxvpCQOYUvJyCl0NAjfWhsT40REA01ofG+tBEQNy2bdu2bUVAg5dT8HIKRkAqeDkFL6dGQNFYHxrrQ0dAeDkFL6fgR0AgGutDY31IQMf60FgfGklAbtu2bdu2SUAVvJyCl1NKQLycgpdT8EpAY31orA+NS0ALXk7ByylMQLI+NNaHxkxAWR8a60NjTUAAAAAAAABOQA==",
          "dtype": "f8"
         },
         "y": {
          "bdata": "AAAAAAAA+H8AAAAAAAD4fwAAAAAAAPh/AAAAAAAA+H8AAAAAAAD4fwAAAAAAAPh/AAAAAAAA+H8AAAAAAAD4fwAAAAAAAPh/AAAAAAAA+H8AAAAAAAD4fwAAAAAAAPh/AAAAAAAA+H8nPvpHE+sPQAdQo0bDjxBASpIkSZIkEUDGmr9Af7QRQBIktrX9PxJAxEQKa3DHEkDKQ2iXLEsTQFVb0Vx8yxNAuTijs6BIFEB0NHbt0sIUQE0nnulFOhVA/rvfDSevFUB3ge8QnyEWQGRXz6DSkRZA2Mye7OL/FkCdeKMX7msXQFQF+pkP1hdAEsBjkmA+GEAyV+YL+KQYQFoGYznrCRlAA53bqE1tGUDyAsZvMc8ZQHXii1GnLxpAKWgf4b6OGkAtO2SehuwaQBVwChAMSRtA02Re2lukG0CywXrTgf4bQD40OBWJVxxA5ggoDXyvHECe59qKZAYdQMcnq8xLXB1AAAk6izqxHUAdUsgDOQUeQLgljQFPWB5AIBEp5oOqHkDcTk+x3vseQA==",
          "dtype": "f8"
         }
        },
        {
         "line": {
          "width": 2
         },
         "mode": "lines",
         "name": "A3",
         "type": "scatter",
         "x": {
          "bdata": "AAAAAAAAAADmFLycgpfzP+YUvJyClwNAWR8a60NjDUDmFLycgpcTQCAa60NjfRhAWR8a60NjHUBJkiRJkiQhQOYUvJyClyNAg5dT8HIKJkAgGutDY30oQLycgpdT8CpAWR8a60NjLUD2obE+NNYvQEmSJEmSJDFAmFPwcgpeMkDmFLycgpczQDTWh8b60DRAg5dT8HIKNkDRWB8a60M3QCAa60NjfThAbtu2bdu2OUC8nIKXU/A6QAteTsHLKTxAWR8a60NjPUCn4OUUvJw+QPahsT401j9AorE+NNaHQEBJkiRJkiRBQPByCl5OwUFAmFPwcgpeQkA/NNaHxvpCQOYUvJyCl0NAjfWhsT40REA01ofG+tBEQNy2bdu2bUVAg5dT8HIKRkAqeDkFL6dGQNFYHxrrQ0dAeDkFL6fgR0AgGutDY31IQMf60FgfGklAbtu2bdu2SUAVvJyCl1NKQLycgpdT8EpAY31orA+NS0ALXk7ByylMQLI+NNaHxkxAWR8a60NjTUAAAAAAAABOQA==",
          "dtype": "f8"
         },
         "y": {
          "bdata": "AAAAAAAA+H8AAAAAAAD4fwAAAAAAAPh/AAAAAAAA+H8AAAAAAAD4fwAAAAAAAPh/AAAAAAAA+H8AAAAAAAD4fwAAAAAAAPh/AAAAAAAA+H8AAAAAAAD4fwAAAAAAAPh/AAAAAAAA+H/KX4oW8SL0PypWFI4PDvY/jm3jEGD69z/f/W0gsef5P//qF0/b1fs///gB1b7E/T/fDuDNQbT/P3S/Z3Yn0gBAs9rsQWrKAUBku9bj4cICQHBmox+IuwNAlnYHqle0BEDTlyL9S60FQAYo4zVhpgZAIbVu+JOfB0AyHPVZ4ZgIQAxvu85GkglAsNR2G8KLCkBbp0ZJUYULQCvixZvyfgxA3nXKiKR4DUCOJYCxZXIOQMMUntw0bA9Af9HBeAgzEEAVywl6/K8QQNpVlgD2LBFA3H/SpfSpEUCDXNkM+CYSQAgwWOH/oxJAkTiX1gshE0AuIqOmG54TQAE5khEvGxRAPUHh3EWYFEANiuTSXxUVQLRdSsJ8khVAfGWsfZwPFkCV+C3bvowWQA==",
          "dtype": "f8"
         }
        },
        {
         "line": {
          "width": 2
         },
         "mode": "lines",
         "name": "A4",
         "type": "scatter",
         "x": {
          "bdata": "AAAAAAAAAADmFLycgpfzP+YUvJyClwNAWR8a60NjDUDmFLycgpcTQCAa60NjfRhAWR8a60NjHUBJkiRJkiQhQOYUvJyClyNAg5dT8HIKJkAgGutDY30oQLycgpdT8CpAWR8a60NjLUD2obE+NNYvQEmSJEmSJDFAmFPwcgpeMkDmFLycgpczQDTWh8b60DRAg5dT8HIKNkDRWB8a60M3QCAa60NjfThAbtu2bdu2OUC8nIKXU/A6QAteTsHLKTxAWR8a60NjPUCn4OUUvJw+QPahsT401j9AorE+NNaHQEBJkiRJkiRBQPByCl5OwUFAmFPwcgpeQkA/NNaHxvpCQOYUvJyCl0NAjfWhsT40REA01ofG+tBEQNy2bdu2bUVAg5dT8HIKRkAqeDkFL6dGQNFYHxrrQ0dAeDkFL6fgR0AgGutDY31IQMf60FgfGklAbtu2bdu2SUAVvJyCl1NKQLycgpdT8EpAY31orA+NS0ALXk7ByylMQLI+NNaHxkxAWR8a60NjTUAAAAAAAABOQA==",
          "dtype": "f8"
         },
         "y": {
          "bdata": "AAAAAAAA+H8AAAAAAAD4fwAAAAAAAPh/AAAAAAAA+H8AAAAAAAD4fwAAAAAAAPh/AAAAAAAA+H8AAAAAAAD4fwAAAAAAAPh/AAAAAAAA+H8AAAAAAAD4fwAAAAAAAPh/AAAAAAAA+H8nPvpHE+sPQAdQo0bDjxBASZIkSZIkEUDGmr9Af7QRQBIktrX9PxJAxEQKa3DHEkDKQ2iXLEsTQFZb0Vx8yxNAuTijs6BIFEB0NHbt0sIUQEwnnulFOhVA/rvfDSevFUB3ge8QnyEWQGRXz6DSkRZA2Mye7OL/FkCdeKMX7msXQFQF+pkP1hdAEsBjkmA+GEAyV+YL+KQYQFwGYznrCRlAA53bqE1tGUDyAsZvMc8ZQHXii1GnLxpAKWgf4b6OGkAvO2SehuwaQBZwChAMSRtA1GRe2lukG0CxwXrTgf4bQD40OBWJVxxA5ggoDXyvHECd59qKZAYdQMcnq8xLXB1AAAk6izqxHUAdUsgDOQUeQLgljQFPWB5AIBEp5oOqHkDdTk+x3vseQA==",
          "dtype": "f8"
         }
        },
        {
         "line": {
          "width": 2
         },
         "mode": "lines",
         "name": "A5",
         "type": "scatter",
         "x": {
          "bdata": "AAAAAAAAAADmFLycgpfzP+YUvJyClwNAWR8a60NjDUDmFLycgpcTQCAa60NjfRhAWR8a60NjHUBJkiRJkiQhQOYUvJyClyNAg5dT8HIKJkAgGutDY30oQLycgpdT8CpAWR8a60NjLUD2obE+NNYvQEmSJEmSJDFAmFPwcgpeMkDmFLycgpczQDTWh8b60DRAg5dT8HIKNkDRWB8a60M3QCAa60NjfThAbtu2bdu2OUC8nIKXU/A6QAteTsHLKTxAWR8a60NjPUCn4OUUvJw+QPahsT401j9AorE+NNaHQEBJkiRJkiRBQPByCl5OwUFAmFPwcgpeQkA/NNaHxvpCQOYUvJyCl0NAjfWhsT40REA01ofG+tBEQNy2bdu2bUVAg5dT8HIKRkAqeDkFL6dGQNFYHxrrQ0dAeDkFL6fgR0AgGutDY31IQMf60FgfGklAbtu2bdu2SUAVvJyCl1NKQLycgpdT8EpAY31orA+NS0ALXk7ByylMQLI+NNaHxkxAWR8a60NjTUAAAAAAAABOQA==",
          "dtype": "f8"
         },
         "y": {
          "bdata": "AAAAAAAA+H8AAAAAAAD4fwAAAAAAAPh/AAAAAAAA+H8AAAAAAAD4fwAAAAAAAPh/AAAAAAAA+H8AAAAAAAD4fwAAAAAAAPh/AAAAAAAA+H8AAAAAAAD4fwAAAAAAAPh/AAAAAAAA+H/yiro/XuP3P5WQEbkF0vk/f8HRx4PB+z9Kg19Ys7H9PzQSs3V3ov8/0iKKldzJAEDTt/8Ds8IBQLlABoi3uwJASXBB+uO0A0DtvJ9AM64EQDu7AxehpwVAuFsS5SmhBkBCpqKdypoHQG3mVKWAlAhAVmyLvkmOCUDUcXv5I4gKQO/wY6cNggtAskE2UAV8DEC4AimqCXYNQG5izpIZcA5ALuBeCTRqD0Ddvf0ULDIQQLfd25RCrxBA+hCjKV0sEUBQvRSCe6kRQNSyKVWdJhJAb50OYcKjEkBDAEZq6iATQHCK6ToVnhNAp7gFokIbFECXnwtzcpgUQP51VYWkFRVAegu7s9iSFUAy0zPcDhAWQKqMhN9GjRZA7uX2oIAKF0B5tRkGvIcXQA==",
          "dtype": "f8"
         }
        },
        {
         "line": {
          "width": 2
         },
         "mode": "lines",
         "name": "rho1",
         "type": "scatter",
         "x": {
          "bdata": "AAAAAAAAAADmFLycgpfzP+YUvJyClwNAWR8a60NjDUDmFLycgpcTQCAa60NjfRhAWR8a60NjHUBJkiRJkiQhQOYUvJyClyNAg5dT8HIKJkAgGutDY30oQLycgpdT8CpAWR8a60NjLUD2obE+NNYvQEmSJEmSJDFAmFPwcgpeMkDmFLycgpczQDTWh8b60DRAg5dT8HIKNkDRWB8a60M3QCAa60NjfThAbtu2bdu2OUC8nIKXU/A6QAteTsHLKTxAWR8a60NjPUCn4OUUvJw+QPahsT401j9AorE+NNaHQEBJkiRJkiRBQPByCl5OwUFAmFPwcgpeQkA/NNaHxvpCQOYUvJyCl0NAjfWhsT40REA01ofG+tBEQNy2bdu2bUVAg5dT8HIKRkAqeDkFL6dGQNFYHxrrQ0dAeDkFL6fgR0AgGutDY31IQMf60FgfGklAbtu2bdu2SUAVvJyCl1NKQLycgpdT8EpAY31orA+NS0ALXk7ByylMQLI+NNaHxkxAWR8a60NjTUAAAAAAAABOQA==",
          "dtype": "f8"
         },
         "y": {
          "bdata": "AAAAAAAA+H8AAAAAAAD4fwAAAAAAAPh/AAAAAAAA+H8AAAAAAAD4fwAAAAAAAPh/AAAAAAAA+H8AAAAAAAD4fwAAAAAAAPh/AAAAAAAA+H8AAAAAAAD4fwAAAAAAAPh/AAAAAAAA+H94zcpj+5ULQPiU0jBQ6AxAyLBpPpotDkAkspPVKWcPQBBEUDMOSxBA/A/2M7PdEEBkuPV17WsRQOQVfsQY9hFAfCMTgIV8EkDANZN4ev8SQCyzYGo2fxNADMCyM/H7E0AIUbrR3HUUQJS+cDEm7RRAIGQW3fVhFUAwQVWNcNQVQBCXb6O3RBZAcPG3kOmyFkBg2awuIh8XQKD6Ywp7iRdA6HNppQvyF0CYn86t6VgYQODF0C4pvhhAAIc+u9whGUBYh46SFYQZQMjub8Hj5BlAIHx7PlZEGkBAc5ADe6IaQBBJUiRf/xpAwJEp4g5bG0BglBu+lbUbQNBdv4j+DhxAIMaMcFNnHECQJbkOnr4cQEAtznLnFB1AwDUhLThqHUCgIkxYmL4dQA==",
          "dtype": "f8"
         }
        },
        {
         "line": {
          "width": 2
         },
         "mode": "lines",
         "name": "rho2",
         "type": "scatter",
         "x": {
          "bdata": "AAAAAAAAAADmFLycgpfzP+YUvJyClwNAWR8a60NjDUDmFLycgpcTQCAa60NjfRhAWR8a60NjHUBJkiRJkiQhQOYUvJyClyNAg5dT8HIKJkAgGutDY30oQLycgpdT8CpAWR8a60NjLUD2obE+NNYvQEmSJEmSJDFAmFPwcgpeMkDmFLycgpczQDTWh8b60DRAg5dT8HIKNkDRWB8a60M3QCAa60NjfThAbtu2bdu2OUC8nIKXU/A6QAteTsHLKTxAWR8a60NjPUCn4OUUvJw+QPahsT401j9AorE+NNaHQEBJkiRJkiRBQPByCl5OwUFAmFPwcgpeQkA/NNaHxvpCQOYUvJyCl0NAjfWhsT40REA01ofG+tBEQNy2bdu2bUVAg5dT8HIKRkAqeDkFL6dGQNFYHxrrQ0dAeDkFL6fgR0AgGutDY31IQMf60FgfGklAbtu2bdu2SUAVvJyCl1NKQLycgpdT8EpAY31orA+NS0ALXk7ByylMQLI+NNaHxkxAWR8a60NjTUAAAAAAAABOQA==",
          "dtype": "f8"
         },
         "y": {
          "bdata": "AAAAAAAA+H8AAAAAAAD4fwAAAAAAAPh/AAAAAAAA+H8AAAAAAAD4fwAAAAAAAPh/AAAAAAAA+H8AAAAAAAD4fwAAAAAAAPh/AAAAAAAA+H8AAAAAAAD4fwAAAAAAAPh/AAAAAAAA+H+Q5vEhye/9PwgOK0BcLv8/4LCPNOIwAEC0/7NchMUAQMhfRkOGVQFAuEDYskrhAUBQ7V8IKGkCQIh6AjBq7QJAWEFZQ1RuA0Do3j/cIewDQHAYYCsIZwRAiM9+3jbfBEDghf7f2FQFQGiHCfcUyAVAkNhETg45BkCgMbXl5KcGQOChjPO1FAdAYAfaNpx/B0DQJH8+sOgHQMBJXaYIUAhAgCFMTLq1CEAQvyR+2BkJQMBQ8CF1fAlAELEa2aDdCUBg/WIfaz0KQABuJWbimwpAMH2ALBT5CkAQwcIUDVULQADgfffYrwtAIP+M9IIJDEAgW1GCFWIMQGAIXnuauQxA4LPDKhsQDUDAZyZXoGUNQGCWwUwyug1A4Mx55tgNDkCgSReWm2AOQA==",
          "dtype": "f8"
         }
        }
       ],
       "layout": {
        "height": 600,
        "hovermode": "x unified",
        "legend": {
         "title": {
          "text": "Амплитуды"
         }
        },
        "template": {
         "data": {
          "bar": [
           {
            "error_x": {
             "color": "#2a3f5f"
            },
            "error_y": {
             "color": "#2a3f5f"
            },
            "marker": {
             "line": {
              "color": "white",
              "width": 0.5
             },
             "pattern": {
              "fillmode": "overlay",
              "size": 10,
              "solidity": 0.2
             }
            },
            "type": "bar"
           }
          ],
          "barpolar": [
           {
            "marker": {
             "line": {
              "color": "white",
              "width": 0.5
             },
             "pattern": {
              "fillmode": "overlay",
              "size": 10,
              "solidity": 0.2
             }
            },
            "type": "barpolar"
           }
          ],
          "carpet": [
           {
            "aaxis": {
             "endlinecolor": "#2a3f5f",
             "gridcolor": "#C8D4E3",
             "linecolor": "#C8D4E3",
             "minorgridcolor": "#C8D4E3",
             "startlinecolor": "#2a3f5f"
            },
            "baxis": {
             "endlinecolor": "#2a3f5f",
             "gridcolor": "#C8D4E3",
             "linecolor": "#C8D4E3",
             "minorgridcolor": "#C8D4E3",
             "startlinecolor": "#2a3f5f"
            },
            "type": "carpet"
           }
          ],
          "choropleth": [
           {
            "colorbar": {
             "outlinewidth": 0,
             "ticks": ""
            },
            "type": "choropleth"
           }
          ],
          "contour": [
           {
            "colorbar": {
             "outlinewidth": 0,
             "ticks": ""
            },
            "colorscale": [
             [
              0,
              "#0d0887"
             ],
             [
              0.1111111111111111,
              "#46039f"
             ],
             [
              0.2222222222222222,
              "#7201a8"
             ],
             [
              0.3333333333333333,
              "#9c179e"
             ],
             [
              0.4444444444444444,
              "#bd3786"
             ],
             [
              0.5555555555555556,
              "#d8576b"
             ],
             [
              0.6666666666666666,
              "#ed7953"
             ],
             [
              0.7777777777777778,
              "#fb9f3a"
             ],
             [
              0.8888888888888888,
              "#fdca26"
             ],
             [
              1,
              "#f0f921"
             ]
            ],
            "type": "contour"
           }
          ],
          "contourcarpet": [
           {
            "colorbar": {
             "outlinewidth": 0,
             "ticks": ""
            },
            "type": "contourcarpet"
           }
          ],
          "heatmap": [
           {
            "colorbar": {
             "outlinewidth": 0,
             "ticks": ""
            },
            "colorscale": [
             [
              0,
              "#0d0887"
             ],
             [
              0.1111111111111111,
              "#46039f"
             ],
             [
              0.2222222222222222,
              "#7201a8"
             ],
             [
              0.3333333333333333,
              "#9c179e"
             ],
             [
              0.4444444444444444,
              "#bd3786"
             ],
             [
              0.5555555555555556,
              "#d8576b"
             ],
             [
              0.6666666666666666,
              "#ed7953"
             ],
             [
              0.7777777777777778,
              "#fb9f3a"
             ],
             [
              0.8888888888888888,
              "#fdca26"
             ],
             [
              1,
              "#f0f921"
             ]
            ],
            "type": "heatmap"
           }
          ],
          "histogram": [
           {
            "marker": {
             "pattern": {
              "fillmode": "overlay",
              "size": 10,
              "solidity": 0.2
             }
            },
            "type": "histogram"
           }
          ],
          "histogram2d": [
           {
            "colorbar": {
             "outlinewidth": 0,
             "ticks": ""
            },
            "colorscale": [
             [
              0,
              "#0d0887"
             ],
             [
              0.1111111111111111,
              "#46039f"
             ],
             [
              0.2222222222222222,
              "#7201a8"
             ],
             [
              0.3333333333333333,
              "#9c179e"
             ],
             [
              0.4444444444444444,
              "#bd3786"
             ],
             [
              0.5555555555555556,
              "#d8576b"
             ],
             [
              0.6666666666666666,
              "#ed7953"
             ],
             [
              0.7777777777777778,
              "#fb9f3a"
             ],
             [
              0.8888888888888888,
              "#fdca26"
             ],
             [
              1,
              "#f0f921"
             ]
            ],
            "type": "histogram2d"
           }
          ],
          "histogram2dcontour": [
           {
            "colorbar": {
             "outlinewidth": 0,
             "ticks": ""
            },
            "colorscale": [
             [
              0,
              "#0d0887"
             ],
             [
              0.1111111111111111,
              "#46039f"
             ],
             [
              0.2222222222222222,
              "#7201a8"
             ],
             [
              0.3333333333333333,
              "#9c179e"
             ],
             [
              0.4444444444444444,
              "#bd3786"
             ],
             [
              0.5555555555555556,
              "#d8576b"
             ],
             [
              0.6666666666666666,
              "#ed7953"
             ],
             [
              0.7777777777777778,
              "#fb9f3a"
             ],
             [
              0.8888888888888888,
              "#fdca26"
             ],
             [
              1,
              "#f0f921"
             ]
            ],
            "type": "histogram2dcontour"
           }
          ],
          "mesh3d": [
           {
            "colorbar": {
             "outlinewidth": 0,
             "ticks": ""
            },
            "type": "mesh3d"
           }
          ],
          "parcoords": [
           {
            "line": {
             "colorbar": {
              "outlinewidth": 0,
              "ticks": ""
             }
            },
            "type": "parcoords"
           }
          ],
          "pie": [
           {
            "automargin": true,
            "type": "pie"
           }
          ],
          "scatter": [
           {
            "fillpattern": {
             "fillmode": "overlay",
             "size": 10,
             "solidity": 0.2
            },
            "type": "scatter"
           }
          ],
          "scatter3d": [
           {
            "line": {
             "colorbar": {
              "outlinewidth": 0,
              "ticks": ""
             }
            },
            "marker": {
             "colorbar": {
              "outlinewidth": 0,
              "ticks": ""
             }
            },
            "type": "scatter3d"
           }
          ],
          "scattercarpet": [
           {
            "marker": {
             "colorbar": {
              "outlinewidth": 0,
              "ticks": ""
             }
            },
            "type": "scattercarpet"
           }
          ],
          "scattergeo": [
           {
            "marker": {
             "colorbar": {
              "outlinewidth": 0,
              "ticks": ""
             }
            },
            "type": "scattergeo"
           }
          ],
          "scattergl": [
           {
            "marker": {
             "colorbar": {
              "outlinewidth": 0,
              "ticks": ""
             }
            },
            "type": "scattergl"
           }
          ],
          "scattermap": [
           {
            "marker": {
             "colorbar": {
              "outlinewidth": 0,
              "ticks": ""
             }
            },
            "type": "scattermap"
           }
          ],
          "scattermapbox": [
           {
            "marker": {
             "colorbar": {
              "outlinewidth": 0,
              "ticks": ""
             }
            },
            "type": "scattermapbox"
           }
          ],
          "scatterpolar": [
           {
            "marker": {
             "colorbar": {
              "outlinewidth": 0,
              "ticks": ""
             }
            },
            "type": "scatterpolar"
           }
          ],
          "scatterpolargl": [
           {
            "marker": {
             "colorbar": {
              "outlinewidth": 0,
              "ticks": ""
             }
            },
            "type": "scatterpolargl"
           }
          ],
          "scatterternary": [
           {
            "marker": {
             "colorbar": {
              "outlinewidth": 0,
              "ticks": ""
             }
            },
            "type": "scatterternary"
           }
          ],
          "surface": [
           {
            "colorbar": {
             "outlinewidth": 0,
             "ticks": ""
            },
            "colorscale": [
             [
              0,
              "#0d0887"
             ],
             [
              0.1111111111111111,
              "#46039f"
             ],
             [
              0.2222222222222222,
              "#7201a8"
             ],
             [
              0.3333333333333333,
              "#9c179e"
             ],
             [
              0.4444444444444444,
              "#bd3786"
             ],
             [
              0.5555555555555556,
              "#d8576b"
             ],
             [
              0.6666666666666666,
              "#ed7953"
             ],
             [
              0.7777777777777778,
              "#fb9f3a"
             ],
             [
              0.8888888888888888,
              "#fdca26"
             ],
             [
              1,
              "#f0f921"
             ]
            ],
            "type": "surface"
           }
          ],
          "table": [
           {
            "cells": {
             "fill": {
              "color": "#EBF0F8"
             },
             "line": {
              "color": "white"
             }
            },
            "header": {
             "fill": {
              "color": "#C8D4E3"
             },
             "line": {
              "color": "white"
             }
            },
            "type": "table"
           }
          ]
         },
         "layout": {
          "annotationdefaults": {
           "arrowcolor": "#2a3f5f",
           "arrowhead": 0,
           "arrowwidth": 1
          },
          "autotypenumbers": "strict",
          "coloraxis": {
           "colorbar": {
            "outlinewidth": 0,
            "ticks": ""
           }
          },
          "colorscale": {
           "diverging": [
            [
             0,
             "#8e0152"
            ],
            [
             0.1,
             "#c51b7d"
            ],
            [
             0.2,
             "#de77ae"
            ],
            [
             0.3,
             "#f1b6da"
            ],
            [
             0.4,
             "#fde0ef"
            ],
            [
             0.5,
             "#f7f7f7"
            ],
            [
             0.6,
             "#e6f5d0"
            ],
            [
             0.7,
             "#b8e186"
            ],
            [
             0.8,
             "#7fbc41"
            ],
            [
             0.9,
             "#4d9221"
            ],
            [
             1,
             "#276419"
            ]
           ],
           "sequential": [
            [
             0,
             "#0d0887"
            ],
            [
             0.1111111111111111,
             "#46039f"
            ],
            [
             0.2222222222222222,
             "#7201a8"
            ],
            [
             0.3333333333333333,
             "#9c179e"
            ],
            [
             0.4444444444444444,
             "#bd3786"
            ],
            [
             0.5555555555555556,
             "#d8576b"
            ],
            [
             0.6666666666666666,
             "#ed7953"
            ],
            [
             0.7777777777777778,
             "#fb9f3a"
            ],
            [
             0.8888888888888888,
             "#fdca26"
            ],
            [
             1,
             "#f0f921"
            ]
           ],
           "sequentialminus": [
            [
             0,
             "#0d0887"
            ],
            [
             0.1111111111111111,
             "#46039f"
            ],
            [
             0.2222222222222222,
             "#7201a8"
            ],
            [
             0.3333333333333333,
             "#9c179e"
            ],
            [
             0.4444444444444444,
             "#bd3786"
            ],
            [
             0.5555555555555556,
             "#d8576b"
            ],
            [
             0.6666666666666666,
             "#ed7953"
            ],
            [
             0.7777777777777778,
             "#fb9f3a"
            ],
            [
             0.8888888888888888,
             "#fdca26"
            ],
            [
             1,
             "#f0f921"
            ]
           ]
          },
          "colorway": [
           "#636efa",
           "#EF553B",
           "#00cc96",
           "#ab63fa",
           "#FFA15A",
           "#19d3f3",
           "#FF6692",
           "#B6E880",
           "#FF97FF",
           "#FECB52"
          ],
          "font": {
           "color": "#2a3f5f"
          },
          "geo": {
           "bgcolor": "white",
           "lakecolor": "white",
           "landcolor": "white",
           "showlakes": true,
           "showland": true,
           "subunitcolor": "#C8D4E3"
          },
          "hoverlabel": {
           "align": "left"
          },
          "hovermode": "closest",
          "mapbox": {
           "style": "light"
          },
          "paper_bgcolor": "white",
          "plot_bgcolor": "white",
          "polar": {
           "angularaxis": {
            "gridcolor": "#EBF0F8",
            "linecolor": "#EBF0F8",
            "ticks": ""
           },
           "bgcolor": "white",
           "radialaxis": {
            "gridcolor": "#EBF0F8",
            "linecolor": "#EBF0F8",
            "ticks": ""
           }
          },
          "scene": {
           "xaxis": {
            "backgroundcolor": "white",
            "gridcolor": "#DFE8F3",
            "gridwidth": 2,
            "linecolor": "#EBF0F8",
            "showbackground": true,
            "ticks": "",
            "zerolinecolor": "#EBF0F8"
           },
           "yaxis": {
            "backgroundcolor": "white",
            "gridcolor": "#DFE8F3",
            "gridwidth": 2,
            "linecolor": "#EBF0F8",
            "showbackground": true,
            "ticks": "",
            "zerolinecolor": "#EBF0F8"
           },
           "zaxis": {
            "backgroundcolor": "white",
            "gridcolor": "#DFE8F3",
            "gridwidth": 2,
            "linecolor": "#EBF0F8",
            "showbackground": true,
            "ticks": "",
            "zerolinecolor": "#EBF0F8"
           }
          },
          "shapedefaults": {
           "line": {
            "color": "#2a3f5f"
           }
          },
          "ternary": {
           "aaxis": {
            "gridcolor": "#DFE8F3",
            "linecolor": "#A2B1C6",
            "ticks": ""
           },
           "baxis": {
            "gridcolor": "#DFE8F3",
            "linecolor": "#A2B1C6",
            "ticks": ""
           },
           "bgcolor": "white",
           "caxis": {
            "gridcolor": "#DFE8F3",
            "linecolor": "#A2B1C6",
            "ticks": ""
           }
          },
          "title": {
           "x": 0.05
          },
          "xaxis": {
           "automargin": true,
           "gridcolor": "#EBF0F8",
           "linecolor": "#EBF0F8",
           "ticks": "",
           "title": {
            "standoff": 15
           },
           "zerolinecolor": "#EBF0F8",
           "zerolinewidth": 2
          },
          "yaxis": {
           "automargin": true,
           "gridcolor": "#EBF0F8",
           "linecolor": "#EBF0F8",
           "ticks": "",
           "title": {
            "standoff": 15
           },
           "zerolinecolor": "#EBF0F8",
           "zerolinewidth": 2
          }
         }
        },
        "title": {
         "text": "Зависимость амплитуд от накачки Omega"
        },
        "width": 800,
        "xaxis": {
         "showspikes": true,
         "spikecolor": "gray",
         "spikemode": "across",
         "spikesnap": "cursor",
         "title": {
          "text": "Ω"
         }
        },
        "yaxis": {
         "showspikes": true,
         "spikecolor": "gray",
         "spikemode": "across",
         "spikesnap": "cursor",
         "title": {
          "text": "Амплитуда"
         }
        }
       }
      }
     },
     "metadata": {},
     "output_type": "display_data"
    }
   ],
   "source": [
    "gammas = np.array([10, 10, 10, 1, 1])\n",
    "Omega_values = np.linspace(0, 60, 50)\n",
    "ALPHA = 1\n",
    "BETA = 1\n",
    "\n",
    "stability = []\n",
    "amps = []\n",
    "\n",
    "for Omega in Omega_values:\n",
    "    M, amp= build_matrix(gammas, Omega)\n",
    "    amps.append(amp)\n",
    "    try:\n",
    "        eigenvalues = eig(M)[0]\n",
    "        max_real = np.max(np.real(eigenvalues))\n",
    "        stability.append(max_real)\n",
    "    except:\n",
    "        stability.append(np.nan)\n",
    "\n",
    "amps = np.array(amps)\n",
    "\n",
    "fig = go.Figure()\n",
    "\n",
    "\n",
    "for i in range(5):\n",
    "    fig.add_trace(go.Scatter(\n",
    "        x=Omega_values,\n",
    "        y=np.abs(amps[:, i]),\n",
    "        name=f'A{i+1}',\n",
    "        mode='lines',\n",
    "        line=dict(width=2),\n",
    "    ))\n",
    "\n",
    "for i in range(2):\n",
    "    fig.add_trace(go.Scatter(\n",
    "        x=Omega_values,\n",
    "        y=np.abs(amps[:, 5+i]),\n",
    "        name=f'rho{i+1}',\n",
    "        mode='lines',\n",
    "        line=dict(width=2),\n",
    "    ))\n",
    "\n",
    "fig.update_layout(\n",
    "    title='Зависимость амплитуд от накачки Omega',\n",
    "    xaxis_title='Накачка Omega',\n",
    "    yaxis_title='Амплитуда',\n",
    "    legend_title='Амплитуды',\n",
    "    hovermode='x unified', \n",
    "    template='plotly_white', \n",
    ")\n",
    "# fig.add_hline(y=kappa(gammas), line_dash=\"dash\", line_color=\"green\")\n",
    "fig.update_xaxes(showspikes=True, spikecolor='gray', spikesnap='cursor', spikemode='across')\n",
    "fig.update_yaxes(showspikes=True, spikecolor='gray', spikesnap='cursor', spikemode='across')\n",
    "fig.update_layout(\n",
    "    xaxis_title='Ω',\n",
    "    height=600,\n",
    "    width=800\n",
    ")\n",
    "fig.show()\n",
    "plt.show()"
   ]
  },
  {
   "cell_type": "code",
   "execution_count": null,
   "id": "886a8cca",
   "metadata": {},
   "outputs": [],
   "source": [
    "gammas = np.array([1e5, 1e5, 1e5, 1, 1])\n",
    "Omega_values = np.linspace(0, 2e8, 1000)\n",
    "ALPHA = 1\n",
    "BETA = 1\n",
    "\n",
    "stability = []\n",
    "amps = []\n",
    "\n",
    "for Omega in Omega_values:\n",
    "    M, amp = build_matrix(gammas, Omega)\n",
    "    amps.append(amp)\n",
    "    try:\n",
    "        eigenvalues = eig(M)[0]\n",
    "        max_real = np.max(np.real(eigenvalues))\n",
    "        stability.append(max_real)\n",
    "    except:\n",
    "        stability.append(np.nan)\n",
    "\n",
    "fig = go.Figure()\n",
    "\n",
    "fig.add_trace(go.Scatter(\n",
    "    x=Omega_values, y=stability,\n",
    "    mode='lines',\n",
    "    name='Zero Order',\n",
    "    line=dict(color='blue')\n",
    "))\n",
    "\n",
    "fig.update_layout(\n",
    "    xaxis_title='Ω',\n",
    "    height=600,\n",
    "    width=800\n",
    ")\n",
    "\n",
    "fig.show()"
   ]
  }
 ],
 "metadata": {
  "kernelspec": {
   "display_name": "Python 3",
   "language": "python",
   "name": "python3"
  },
  "language_info": {
   "codemirror_mode": {
    "name": "ipython",
    "version": 3
   },
   "file_extension": ".py",
   "mimetype": "text/x-python",
   "name": "python",
   "nbconvert_exporter": "python",
   "pygments_lexer": "ipython3",
   "version": "3.11.9"
  }
 },
 "nbformat": 4,
 "nbformat_minor": 5
}
